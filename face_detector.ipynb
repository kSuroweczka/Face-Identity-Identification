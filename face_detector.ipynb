{
  "cells": [
    {
      "cell_type": "code",
      "execution_count": null,
      "metadata": {
        "colab": {
          "base_uri": "https://localhost:8080/"
        },
        "id": "LybGO_qVhSdK",
        "outputId": "ad3dd397-9431-4bfb-b6a1-bc421f0eba3e"
      },
      "outputs": [],
      "source": [
        "%pip install mtcnn"
      ]
    },
    {
      "cell_type": "code",
      "execution_count": null,
      "metadata": {
        "colab": {
          "base_uri": "https://localhost:8080/"
        },
        "id": "Hn5fLm7FhghW",
        "outputId": "2bbeaa41-d505-4ec7-8e96-b11b9353dac9"
      },
      "outputs": [],
      "source": [
        "from google.colab import drive\n",
        "drive.mount('/content/drive')"
      ]
    },
    {
      "cell_type": "code",
      "execution_count": null,
      "metadata": {
        "id": "GUtMQEGjiWmW"
      },
      "outputs": [],
      "source": [
        "import os\n",
        "import numpy as np\n",
        "import pandas as pd\n",
        "\n",
        "import cv2\n",
        "from mtcnn import MTCNN\n",
        "import matplotlib.pyplot as plt"
      ]
    },
    {
      "cell_type": "code",
      "execution_count": 1,
      "metadata": {
        "id": "fTvGzV8Hhny4"
      },
      "outputs": [],
      "source": [
        "FRAMES_MAIN_PATH = '/content/drive/MyDrive/Frames'\n",
        "SAVE_MAIN_PATH = '/content/drive/MyDrive/Detected_Faces'\n",
        "\n",
        "persons = ['Karolina','Kacper','Joanna','Mirek','Sylwia','Łukasz','Emilia','Mariusz','Ania'] ## classes"
      ]
    },
    {
      "cell_type": "code",
      "execution_count": null,
      "metadata": {
        "id": "_SBgBZkZhXgn"
      },
      "outputs": [],
      "source": [
        "def show_image(rgb_image, x1, y1, x2, y2):\n",
        "    '''\n",
        "    Show image with rectangle around detected face\n",
        "\n",
        "    params:\n",
        "        rgb_image: np.array - image in RGB format\n",
        "        x1, y1, x2, y2: int - coordinates of the rectangle\n",
        "    '''\n",
        "    cv2.rectangle(rgb_image, (x1, y1), (x2, y2), (255, 0, 0), 2)\n",
        "    plt.imshow(rgb_image)\n",
        "    plt.axis('off')\n",
        "    plt.show()\n",
        "\n",
        "def detect_face(folder_name:str, data_type:str, show = False):\n",
        "    '''\n",
        "    Extract faces from single person folder\n",
        "\n",
        "    params:\n",
        "        folder_name: str - name of the folder with frames\n",
        "        data_type: str - type of the data (no_covering, sunglasses)\n",
        "        show: bool - if True show the image with detected face\n",
        "\n",
        "    return:\n",
        "        extracted_faces: list - list of extracted faces\n",
        "    '''\n",
        "    path_to_data = os.path.join(FRAMES_MAIN_PATH, data_type, folder_name)\n",
        "    path_to_save = os.path.join(SAVE_MAIN_PATH, data_type, folder_name)\n",
        "\n",
        "    os.makedirs(path_to_save, exist_ok=True)\n",
        "\n",
        "    extracted_faces = []\n",
        "    detector = MTCNN()\n",
        "    saved_count = 0\n",
        "\n",
        "    for image_path in os.listdir(path_to_data):\n",
        "        image = cv2.imread(os.path.join(path_to_data, image_path))\n",
        "        rgb_image = cv2.cvtColor(image, cv2.COLOR_BGR2RGB)\n",
        "\n",
        "        faces = detector.detect_faces(rgb_image)\n",
        "\n",
        "        if len(faces) == 0:\n",
        "            print(\"No faces for: \",os.path.join(path_to_data, image_path))\n",
        "            continue\n",
        "\n",
        "        x1, y1, width, height = faces[0]['box']\n",
        "        x1, y1 = abs(x1), abs(y1)\n",
        "        x2, y2 = x1 + width, y1 + height\n",
        "\n",
        "        if show == True:\n",
        "            show_image(rgb_image, x1, y1, x2, y2)\n",
        "\n",
        "        face_image = rgb_image[y1:y2, x1:x2]\n",
        "        extracted_faces.append(face_image)\n",
        "\n",
        "        save_path = os.path.join(path_to_save,f\"cropped_{saved_count:04d}.jpg\")\n",
        "        cv2.imwrite(save_path, face_image)\n",
        "        saved_count +=1\n",
        "        print(f'SAVED data:   {save_path}')\n",
        "\n",
        "    return extracted_faces"
      ]
    },
    {
      "cell_type": "markdown",
      "metadata": {},
      "source": [
        "##### Detecting faces of people without any covering"
      ]
    },
    {
      "cell_type": "code",
      "execution_count": null,
      "metadata": {},
      "outputs": [],
      "source": [
        "for name in persons:\n",
        "    for i in range(1,4):\n",
        "        extracted_faces = detect_face(f'{name}/{name}_{i}', 'no_covering', show = False)"
      ]
    },
    {
      "cell_type": "markdown",
      "metadata": {},
      "source": [
        "##### Detecting faces of people wearing sunglasses"
      ]
    },
    {
      "cell_type": "code",
      "execution_count": null,
      "metadata": {},
      "outputs": [],
      "source": [
        "for name in persons:\n",
        "    for i in range(1,4):\n",
        "        extracted_faces = detect_face(f'{name}/{name}_{i}', 'sunglasses', show = False)"
      ]
    }
  ],
  "metadata": {
    "colab": {
      "collapsed_sections": [
        "EwLCIDJ9zD45",
        "RtC8SGTWhQmH",
        "eeSXGR_cY9A1",
        "3bFxFD3ubehe",
        "mpRc9AEEo_68"
      ],
      "gpuType": "T4",
      "provenance": []
    },
    "kernelspec": {
      "display_name": "Python 3",
      "name": "python3"
    },
    "language_info": {
      "codemirror_mode": {
        "name": "ipython",
        "version": 3
      },
      "file_extension": ".py",
      "mimetype": "text/x-python",
      "name": "python",
      "nbconvert_exporter": "python",
      "pygments_lexer": "ipython3",
      "version": "3.11.1"
    }
  },
  "nbformat": 4,
  "nbformat_minor": 0
}
