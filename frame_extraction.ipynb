{
  "cells": [
    {
      "cell_type": "code",
      "execution_count": null,
      "metadata": {
        "colab": {
          "base_uri": "https://localhost:8080/"
        },
        "id": "9uvBLVxPZkDc",
        "outputId": "9669198e-b04e-4fd0-bac6-640f24cb4c41"
      },
      "outputs": [],
      "source": [
        "from google.colab import drive\n",
        "drive.mount('/content/drive')"
      ]
    },
    {
      "cell_type": "code",
      "execution_count": 2,
      "metadata": {
        "id": "RZsQEx29iFqv"
      },
      "outputs": [],
      "source": [
        "import cv2\n",
        "import os"
      ]
    },
    {
      "cell_type": "code",
      "execution_count": null,
      "metadata": {
        "id": "9miut4NkaUwD"
      },
      "outputs": [],
      "source": [
        "VIDEOS_MAIN_PATH = '/content/drive/MyDrive/Video'\n",
        "FRAMES_MAIN_PATH = '/content/drive/MyDrive/Frames'\n",
        "\n",
        "NO_COVERING_VIDEO_PATH = os.path.join(VIDEOS_MAIN_PATH, 'no_covering')\n",
        "NO_COVERING_FRAMES_PATH = os.path.join(FRAMES_MAIN_PATH, 'no_covering')\n",
        "\n",
        "SUNGLASSES_VIDEO_PATH = os.path.join(VIDEOS_MAIN_PATH, 'sunglasses')\n",
        "SUNGLASSES_FRAMES_PATH = os.path.join(FRAMES_MAIN_PATH, 'sunglasses')\n",
        "\n",
        "persons = ['Karolina','Kacper','Joanna','Mirek','Sylwia','Łukasz','Emilia','Mariusz','Ania'] ## classes"
      ]
    },
    {
      "cell_type": "code",
      "execution_count": null,
      "metadata": {
        "id": "J8mLDP1ndMaY"
      },
      "outputs": [],
      "source": [
        "def save_every_nth_frame(video_path, output_dir, n):\n",
        "    '''\n",
        "    Saves every n-th frame from the video to the output_dir.\n",
        "    \n",
        "    params: \n",
        "        video_path: str - path to the video file\n",
        "        output_dir: str - path to the directory where the frames will be saved\n",
        "        n: int - save every n-th frame\n",
        "    '''\n",
        "    os.makedirs(output_dir, exist_ok=True)\n",
        "\n",
        "    cap = cv2.VideoCapture(video_path)\n",
        "\n",
        "    frame_count = 0\n",
        "    saved_count = 0\n",
        "\n",
        "    while True:\n",
        "        ret, frame = cap.read()\n",
        "\n",
        "        if not ret:\n",
        "            break\n",
        "\n",
        "        if frame_count % n == 0:\n",
        "            frame_filename = os.path.join(output_dir, f\"frame_{saved_count:04d}.jpg\")\n",
        "            cv2.imwrite(frame_filename, frame)\n",
        "            saved_count += 1\n",
        "            print(f\"Saved: {frame_filename}\")\n",
        "\n",
        "        frame_count += 1\n",
        "\n",
        "    cap.release()\n",
        "    print(f\"Total frames saved: {saved_count}\")"
      ]
    },
    {
      "cell_type": "markdown",
      "metadata": {},
      "source": [
        "##### Processing videos of people without any covering"
      ]
    },
    {
      "cell_type": "code",
      "execution_count": null,
      "metadata": {},
      "outputs": [],
      "source": [
        "for name in persons:\n",
        "    for i in range(1,4):\n",
        "        video_path = os.path.join(NO_COVERING_VIDEO_PATH, f'{name}/',f'{name}_{i}.mp4')\n",
        "        output_dir = os.path.join(NO_COVERING_FRAMES_PATH,f'{name}/' f'{name}_{i}')\n",
        "        save_every_nth_frame(video_path, output_dir, 1)"
      ]
    },
    {
      "cell_type": "markdown",
      "metadata": {},
      "source": [
        "##### Processing videos of people wearing sunglasses"
      ]
    },
    {
      "cell_type": "code",
      "execution_count": null,
      "metadata": {},
      "outputs": [],
      "source": [
        "for name in persons:\n",
        "    for i in range(1,4):\n",
        "        video_path = os.path.join(SUNGLASSES_VIDEO_PATH, f'{name}/',f'{name}_{i}.mp4')\n",
        "        output_dir = os.path.join(SUNGLASSES_FRAMES_PATH,f'{name}/' f'{name}_{i}')\n",
        "        save_every_nth_frame(video_path, output_dir, 1)"
      ]
    }
  ],
  "metadata": {
    "colab": {
      "provenance": []
    },
    "kernelspec": {
      "display_name": "Python 3",
      "name": "python3"
    },
    "language_info": {
      "codemirror_mode": {
        "name": "ipython",
        "version": 3
      },
      "file_extension": ".py",
      "mimetype": "text/x-python",
      "name": "python",
      "nbconvert_exporter": "python",
      "pygments_lexer": "ipython3",
      "version": "3.11.1"
    }
  },
  "nbformat": 4,
  "nbformat_minor": 0
}
