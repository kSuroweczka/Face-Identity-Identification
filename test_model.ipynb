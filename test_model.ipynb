{
 "cells": [
  {
   "cell_type": "code",
   "execution_count": null,
   "metadata": {},
   "outputs": [],
   "source": [
    "%pip install mtcnn keras_facenet"
   ]
  },
  {
   "cell_type": "code",
   "execution_count": null,
   "metadata": {},
   "outputs": [],
   "source": [
    "from google.colab import drive\n",
    "drive.mount('/content/drive')"
   ]
  },
  {
   "cell_type": "code",
   "execution_count": null,
   "metadata": {},
   "outputs": [],
   "source": [
    "import os\n",
    "import cv2\n",
    "import numpy as np\n",
    "import pickle\n",
    "import seaborn as sns\n",
    "import matplotlib.pyplot as plt\n",
    "from google.colab.patches import cv2_imshow\n",
    "\n",
    "\n",
    "from mtcnn import MTCNN\n",
    "from keras_facenet import FaceNet\n",
    "from tensorflow.keras.models import load_model\n",
    "from sklearn.metrics import confusion_matrix"
   ]
  },
  {
   "cell_type": "code",
   "execution_count": 8,
   "metadata": {},
   "outputs": [],
   "source": [
    "SAVE_MAIN_PATH = '/content/drive/MyDrive/'\n",
    "MODEL_PATH = '/content/drive/MyDrive/model.h5'\n",
    "\n",
    "valid_labels = ['Emilia', 'Joanna', 'Kacper', 'Karolina', 'Mirek', 'Sylwia', 'Łukasz', 'Mariusz', 'Ania']"
   ]
  },
  {
   "cell_type": "code",
   "execution_count": 9,
   "metadata": {},
   "outputs": [],
   "source": [
    "def load_embeddings(save_path, persons):\n",
    "    '''\n",
    "    Load embeddings from files\n",
    "    '''\n",
    "    embeddings = []\n",
    "    true_labels = []\n",
    "    for person in persons:\n",
    "        file_path = os.path.join(save_path, f\"testX_{person.lower()}.pkl\")\n",
    "        if os.path.exists(file_path):\n",
    "            with open(file_path, 'rb') as file:\n",
    "                data = pickle.load(file)\n",
    "                embeddings.extend(data)\n",
    "                true_labels.extend([person] * len(data))\n",
    "    return np.array(embeddings), true_labels"
   ]
  },
  {
   "cell_type": "markdown",
   "metadata": {},
   "source": [
    "##### Loading the model and feature vectors of the sunglasses set"
   ]
  },
  {
   "cell_type": "code",
   "execution_count": null,
   "metadata": {},
   "outputs": [],
   "source": [
    "X, true_labels = load_embeddings(SAVE_MAIN_PATH, valid_labels)\n",
    "model = load_model(MODEL_PATH)"
   ]
  },
  {
   "cell_type": "markdown",
   "metadata": {},
   "source": [
    "##### Confusion matrix"
   ]
  },
  {
   "cell_type": "code",
   "execution_count": null,
   "metadata": {},
   "outputs": [],
   "source": [
    "predicted_probs = model.predict(X)\n",
    "predicted_labels = [valid_labels[np.argmax(prob)] if max(prob) > 0.5 else 'Unknown' for prob in predicted_probs]\n",
    "\n",
    "cm = confusion_matrix(true_labels, predicted_labels, labels=valid_labels)\n",
    "cm_percent = cm.astype('float') / cm.sum(axis=1)[:, np.newaxis] * 100\n",
    "\n",
    "plt.figure(figsize=(10, 8))\n",
    "sns.heatmap(cm_percent, annot=True, fmt=\".1f\", cmap=\"Blues\", xticklabels=valid_labels, yticklabels=valid_labels)\n",
    "plt.xlabel(\"Predicted Label\")\n",
    "plt.ylabel(\"True Label\")\n",
    "plt.title(\"Confusion Matrix with Percentage Values\")\n",
    "plt.show()"
   ]
  },
  {
   "cell_type": "markdown",
   "metadata": {},
   "source": [
    "##### Testing the model's performance on single photos"
   ]
  },
  {
   "cell_type": "code",
   "execution_count": null,
   "metadata": {},
   "outputs": [],
   "source": [
    "embedder = FaceNet()\n",
    "\n",
    "def get_embeddings(face_img_path):\n",
    "    '''\n",
    "    Get embeddings from face image\n",
    "    '''\n",
    "    face_img = cv2.imread(face_img_path)\n",
    "    face_img = face_img.astype('float32')\n",
    "    face_img = np.expand_dims(face_img, axis=0)\n",
    "    yhat = embedder.embeddings(face_img)\n",
    "    return yhat[0]"
   ]
  },
  {
   "cell_type": "code",
   "execution_count": null,
   "metadata": {},
   "outputs": [],
   "source": [
    "detector = MTCNN()\n",
    "\n",
    "def detect_face(img_path):\n",
    "  '''\n",
    "  Detect face on image and return face image\n",
    "  '''\n",
    "  image = cv2.imread(img_path)\n",
    "  image = cv2.cvtColor(image, cv2.COLOR_BGR2RGB)\n",
    "  faces = detector.detect_faces(image)\n",
    "\n",
    "  if len(faces) == 0:\n",
    "    print(\"No faces for: \", img_path)\n",
    "    return None\n",
    "\n",
    "  x1, y1, width, height = faces[0]['box']\n",
    "  x1, y1 = abs(x1), abs(y1)\n",
    "  x2, y2 = x1 + width, y1 + height\n",
    "\n",
    "  face_image = image[y1:y2, x1:x2]\n",
    "\n",
    "  cv2.rectangle(image, (x1, y1), (x2, y2), (255, 0, 0), 2)\n",
    "  plt.imshow(image)\n",
    "  plt.axis('off')\n",
    "  plt.show()\n",
    "  return face_image"
   ]
  },
  {
   "cell_type": "code",
   "execution_count": null,
   "metadata": {},
   "outputs": [],
   "source": [
    "valid_labels = ['Emilia', 'Joanna', 'Kacper', 'Karolina', 'Mirek', 'Sylwia', 'Łukasz', 'Mariusz', 'Ania']\n",
    "\n",
    "def recognize_person(img_path, confidence_threshold=0.50):\n",
    "  '''\n",
    "  Recognize person on the image\n",
    "  '''\n",
    "  detected_face = detect_face(img_path)\n",
    "  detected_face_bgr = cv2.cvtColor(detected_face, cv2.COLOR_RGB2BGR)\n",
    "  cv2_imshow(detected_face_bgr)\n",
    "\n",
    "  if detected_face is not None:\n",
    "      cv2.imwrite(\"/content/result.jpg\", detected_face)\n",
    "\n",
    "      emb = get_embeddings(\"/content/result.jpg\")\n",
    "      emb = np.expand_dims(emb, axis=0)\n",
    "      prediction = model.predict(emb)\n",
    "\n",
    "      max_prob = np.max(prediction)\n",
    "      predicted_class_index = np.argmax(prediction)\n",
    "\n",
    "      if max_prob >= confidence_threshold:\n",
    "          predicted_class = valid_labels[predicted_class_index]\n",
    "          print(f'Predicted Class: {predicted_class}')\n",
    "          print(f'Max Probability: {max_prob}')\n",
    "      else:\n",
    "          print(f'Not confident enough. Predicted Class: Unknown')\n",
    "          print(f'Max Probability: {max_prob}')"
   ]
  },
  {
   "cell_type": "code",
   "execution_count": null,
   "metadata": {},
   "outputs": [],
   "source": [
    "for img in os.listdir('/content/drive/MyDrive/TESTED_IMAGES/Karolina'):\n",
    "  recognize_person(os.path.join('/content/drive/MyDrive/TESTED_IMAGES/Karolina', img))"
   ]
  },
  {
   "cell_type": "code",
   "execution_count": null,
   "metadata": {},
   "outputs": [],
   "source": [
    "for img in os.listdir('/content/drive/MyDrive/TESTED_IMAGES/Kacper'):\n",
    "  recognize_person(os.path.join('/content/drive/MyDrive/TESTED_IMAGES/Kacper', img))"
   ]
  },
  {
   "cell_type": "code",
   "execution_count": null,
   "metadata": {},
   "outputs": [],
   "source": [
    "for img in os.listdir('/content/drive/MyDrive/TESTED_IMAGES/Sylwia'):\n",
    "  recognize_person(os.path.join('/content/drive/MyDrive/TESTED_IMAGES/Sylwia', img))"
   ]
  },
  {
   "cell_type": "code",
   "execution_count": null,
   "metadata": {},
   "outputs": [],
   "source": [
    "for img in os.listdir('/content/drive/MyDrive/TESTED_IMAGES/Łukasz'):\n",
    "  recognize_person(os.path.join('/content/drive/MyDrive/TESTED_IMAGES/Łukasz', img))"
   ]
  },
  {
   "cell_type": "code",
   "execution_count": null,
   "metadata": {},
   "outputs": [],
   "source": [
    "for img in os.listdir('/content/drive/MyDrive/TESTED_IMAGES/Joanna'):\n",
    "  recognize_person(os.path.join('/content/drive/MyDrive/TESTED_IMAGES/Joanna', img))"
   ]
  },
  {
   "cell_type": "code",
   "execution_count": null,
   "metadata": {},
   "outputs": [],
   "source": [
    "for img in os.listdir('/content/drive/MyDrive/TESTED_IMAGES/Mirek'):\n",
    "  recognize_person(os.path.join('/content/drive/MyDrive/TESTED_IMAGES/Mirek', img))"
   ]
  },
  {
   "cell_type": "code",
   "execution_count": null,
   "metadata": {},
   "outputs": [],
   "source": [
    "for img in os.listdir('/content/drive/MyDrive/TESTED_IMAGES/Emilia'):\n",
    "  recognize_person(os.path.join('/content/drive/MyDrive/TESTED_IMAGES/Emilia', img))"
   ]
  },
  {
   "cell_type": "code",
   "execution_count": null,
   "metadata": {},
   "outputs": [],
   "source": [
    "for img in os.listdir('/content/drive/MyDrive/TESTED_IMAGES/Mariusz'):\n",
    "  recognize_person(os.path.join('/content/drive/MyDrive/TESTED_IMAGES/Mariusz', img))"
   ]
  },
  {
   "cell_type": "code",
   "execution_count": null,
   "metadata": {},
   "outputs": [],
   "source": [
    "for img in os.listdir('/content/drive/MyDrive/TESTED_IMAGES/Ania'):\n",
    "  recognize_person(os.path.join('/content/drive/MyDrive/TESTED_IMAGES/Ania', img))"
   ]
  }
 ],
 "metadata": {
  "kernelspec": {
   "display_name": "Python 3",
   "language": "python",
   "name": "python3"
  },
  "language_info": {
   "codemirror_mode": {
    "name": "ipython",
    "version": 3
   },
   "file_extension": ".py",
   "mimetype": "text/x-python",
   "name": "python",
   "nbconvert_exporter": "python",
   "pygments_lexer": "ipython3",
   "version": "3.11.1"
  }
 },
 "nbformat": 4,
 "nbformat_minor": 2
}
